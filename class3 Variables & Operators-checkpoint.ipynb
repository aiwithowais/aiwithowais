{
 "cells": [
  {
   "cell_type": "markdown",
   "id": "02726145",
   "metadata": {},
   "source": [
    "## Variables for Strings"
   ]
  },
  {
   "cell_type": "code",
   "execution_count": 1,
   "id": "362fa624",
   "metadata": {},
   "outputs": [],
   "source": [
    "name = \"owais\""
   ]
  },
  {
   "cell_type": "code",
   "execution_count": 2,
   "id": "5e17c958",
   "metadata": {},
   "outputs": [
    {
     "name": "stdout",
     "output_type": "stream",
     "text": [
      "owais\n"
     ]
    }
   ],
   "source": [
    "print(name)"
   ]
  },
  {
   "cell_type": "code",
   "execution_count": 3,
   "id": "a0b3f80c",
   "metadata": {},
   "outputs": [],
   "source": [
    "name = \"sultan\""
   ]
  },
  {
   "cell_type": "code",
   "execution_count": 4,
   "id": "55c01541",
   "metadata": {},
   "outputs": [
    {
     "name": "stdout",
     "output_type": "stream",
     "text": [
      "sultan\n"
     ]
    }
   ],
   "source": [
    "print(name)"
   ]
  },
  {
   "cell_type": "code",
   "execution_count": 5,
   "id": "e6d9326c",
   "metadata": {},
   "outputs": [],
   "source": [
    "first_name = \"owais\"\n",
    "\n",
    "facebook = \"sultan\""
   ]
  },
  {
   "cell_type": "code",
   "execution_count": 6,
   "id": "20d984c8",
   "metadata": {},
   "outputs": [
    {
     "name": "stdout",
     "output_type": "stream",
     "text": [
      "sultan\n"
     ]
    }
   ],
   "source": [
    "print(facebook)"
   ]
  },
  {
   "cell_type": "code",
   "execution_count": 7,
   "id": "f726d0b6",
   "metadata": {},
   "outputs": [],
   "source": [
    "my_first_name_is = \"owais\""
   ]
  },
  {
   "cell_type": "code",
   "execution_count": 8,
   "id": "bddcc632",
   "metadata": {},
   "outputs": [
    {
     "name": "stdout",
     "output_type": "stream",
     "text": [
      "sultan\n"
     ]
    }
   ],
   "source": [
    "print(name)"
   ]
  },
  {
   "cell_type": "code",
   "execution_count": 9,
   "id": "a58b31be",
   "metadata": {},
   "outputs": [
    {
     "name": "stdout",
     "output_type": "stream",
     "text": [
      "owais\n"
     ]
    }
   ],
   "source": [
    "print(first_name)"
   ]
  },
  {
   "cell_type": "code",
   "execution_count": 10,
   "id": "f134a6d7",
   "metadata": {},
   "outputs": [],
   "source": [
    "last_name = \"sultan\"\n",
    "city_of_origin = \"New Orleans\"\n",
    "aussie_greeting = \"g'Day\""
   ]
  },
  {
   "cell_type": "code",
   "execution_count": 11,
   "id": "b4f229c9",
   "metadata": {},
   "outputs": [
    {
     "name": "stdout",
     "output_type": "stream",
     "text": [
      "g'Day\n"
     ]
    }
   ],
   "source": [
    "print(aussie_greeting)"
   ]
  },
  {
   "cell_type": "code",
   "execution_count": 12,
   "id": "2a1d9445",
   "metadata": {},
   "outputs": [
    {
     "ename": "SyntaxError",
     "evalue": "unterminated string literal (detected at line 1) (584074547.py, line 1)",
     "output_type": "error",
     "traceback": [
      "\u001b[1;36m  Cell \u001b[1;32mIn[12], line 1\u001b[1;36m\u001b[0m\n\u001b[1;33m    greetings = \"g\"day\"\u001b[0m\n\u001b[1;37m                      ^\u001b[0m\n\u001b[1;31mSyntaxError\u001b[0m\u001b[1;31m:\u001b[0m unterminated string literal (detected at line 1)\n"
     ]
    }
   ],
   "source": [
    "greetings = \"g\"day\""
   ]
  },
  {
   "cell_type": "code",
   "execution_count": 13,
   "id": "38eaf1e5",
   "metadata": {},
   "outputs": [],
   "source": [
    "greetings_double = \"g\\\"day\""
   ]
  },
  {
   "cell_type": "code",
   "execution_count": 14,
   "id": "9ccfb7a0",
   "metadata": {},
   "outputs": [
    {
     "name": "stdout",
     "output_type": "stream",
     "text": [
      "g\"day\n"
     ]
    }
   ],
   "source": [
    "print(greetings_double)"
   ]
  },
  {
   "cell_type": "code",
   "execution_count": 15,
   "id": "fdeb95a0",
   "metadata": {},
   "outputs": [],
   "source": [
    "greetings = 'g\"day'"
   ]
  },
  {
   "cell_type": "code",
   "execution_count": 16,
   "id": "e4d429f6",
   "metadata": {},
   "outputs": [
    {
     "name": "stdout",
     "output_type": "stream",
     "text": [
      "g\"day\n"
     ]
    }
   ],
   "source": [
    "print(greetings)"
   ]
  },
  {
   "cell_type": "code",
   "execution_count": 17,
   "id": "8308d375",
   "metadata": {},
   "outputs": [
    {
     "data": {
      "text/plain": [
       "'owais1'"
      ]
     },
     "execution_count": 17,
     "metadata": {},
     "output_type": "execute_result"
    }
   ],
   "source": [
    "first_name + \"1\""
   ]
  },
  {
   "cell_type": "code",
   "execution_count": 18,
   "id": "ba34b863",
   "metadata": {},
   "outputs": [
    {
     "ename": "TypeError",
     "evalue": "can only concatenate str (not \"int\") to str",
     "output_type": "error",
     "traceback": [
      "\u001b[1;31m---------------------------------------------------------------------------\u001b[0m",
      "\u001b[1;31mTypeError\u001b[0m                                 Traceback (most recent call last)",
      "Cell \u001b[1;32mIn[18], line 1\u001b[0m\n\u001b[1;32m----> 1\u001b[0m first_name \u001b[38;5;241m+\u001b[39m \u001b[38;5;241m1\u001b[39m\n",
      "\u001b[1;31mTypeError\u001b[0m: can only concatenate str (not \"int\") to str"
     ]
    }
   ],
   "source": [
    "first_name + 1"
   ]
  },
  {
   "cell_type": "code",
   "execution_count": null,
   "id": "706686a0",
   "metadata": {},
   "outputs": [],
   "source": [
    "first_name + one"
   ]
  },
  {
   "cell_type": "code",
   "execution_count": 19,
   "id": "19d80707",
   "metadata": {},
   "outputs": [
    {
     "data": {
      "text/plain": [
       "'owaisone'"
      ]
     },
     "execution_count": 19,
     "metadata": {},
     "output_type": "execute_result"
    }
   ],
   "source": [
    "first_name + \"one\""
   ]
  },
  {
   "cell_type": "markdown",
   "id": "6b0071f2",
   "metadata": {},
   "source": [
    "### shortcut commands\n",
    "\n",
    "- CTRL + ENTER = run cell while staying at same cell\n",
    "- SHIFT + ENTER = run cell while movingto the next/new cell\n",
    "\n",
    "- ESC + H => All shortcut commands\n",
    "- ESC + A => cell created above\n",
    "- ESC + B => cell created below\n",
    "- ESC + M => cell convert markdown\n",
    "- ESC + DD => to delete the cell in which we are rightnow\n",
    "- ESC + 1 => cell will create level 1 heading (2-5)"
   ]
  },
  {
   "cell_type": "markdown",
   "id": "8d4b1620",
   "metadata": {},
   "source": [
    "## Variables for Numbers"
   ]
  },
  {
   "cell_type": "code",
   "execution_count": 20,
   "id": "ba8af74f",
   "metadata": {},
   "outputs": [],
   "source": [
    "age = 18 "
   ]
  },
  {
   "cell_type": "code",
   "execution_count": 21,
   "id": "f45572d1",
   "metadata": {},
   "outputs": [
    {
     "name": "stdout",
     "output_type": "stream",
     "text": [
      "18\n"
     ]
    }
   ],
   "source": [
    "print(age)"
   ]
  },
  {
   "cell_type": "code",
   "execution_count": 22,
   "id": "d983a921",
   "metadata": {},
   "outputs": [
    {
     "data": {
      "text/plain": [
       "19"
      ]
     },
     "execution_count": 22,
     "metadata": {},
     "output_type": "execute_result"
    }
   ],
   "source": [
    "print(age + 1)"
   ]
  },
  {
   "cell_type": "code",
   "execution_count": 29,
   "id": "d24a8ee2",
   "metadata": {},
   "outputs": [],
   "source": [
    "new_age = age + 2"
   ]
  },
  {
   "cell_type": "code",
   "execution_count": 30,
   "id": "7fc589bf",
   "metadata": {},
   "outputs": [
    {
     "name": "stdout",
     "output_type": "stream",
     "text": [
      "20\n"
     ]
    }
   ],
   "source": [
    "print(new_age)"
   ]
  },
  {
   "cell_type": "code",
   "execution_count": 31,
   "id": "4b3bdbd4",
   "metadata": {},
   "outputs": [
    {
     "data": {
      "text/plain": [
       "18"
      ]
     },
     "execution_count": 31,
     "metadata": {},
     "output_type": "execute_result"
    }
   ],
   "source": [
    "age"
   ]
  },
  {
   "cell_type": "code",
   "execution_count": 32,
   "id": "bd5ac86b",
   "metadata": {},
   "outputs": [],
   "source": [
    "age+=1"
   ]
  },
  {
   "cell_type": "code",
   "execution_count": 33,
   "id": "3eb15d49",
   "metadata": {},
   "outputs": [
    {
     "data": {
      "text/plain": [
       "19"
      ]
     },
     "execution_count": 33,
     "metadata": {},
     "output_type": "execute_result"
    }
   ],
   "source": [
    "age"
   ]
  },
  {
   "cell_type": "code",
   "execution_count": 34,
   "id": "fb15d189",
   "metadata": {},
   "outputs": [],
   "source": [
    "weight = 150"
   ]
  },
  {
   "cell_type": "code",
   "execution_count": 35,
   "id": "abf1238b",
   "metadata": {},
   "outputs": [
    {
     "name": "stdout",
     "output_type": "stream",
     "text": [
      "150\n"
     ]
    }
   ],
   "source": [
    "print(weight)"
   ]
  },
  {
   "cell_type": "code",
   "execution_count": 36,
   "id": "59e93bf9",
   "metadata": {},
   "outputs": [
    {
     "name": "stdout",
     "output_type": "stream",
     "text": [
      "151\n"
     ]
    }
   ],
   "source": [
    "print(weight + 1)"
   ]
  },
  {
   "cell_type": "code",
   "execution_count": 37,
   "id": "0aeb4abc",
   "metadata": {},
   "outputs": [
    {
     "name": "stdout",
     "output_type": "stream",
     "text": [
      "150\n"
     ]
    }
   ],
   "source": [
    "print(weight)"
   ]
  },
  {
   "cell_type": "code",
   "execution_count": 38,
   "id": "6d5cdae9",
   "metadata": {},
   "outputs": [
    {
     "ename": "TypeError",
     "evalue": "'weight' is an invalid keyword argument for print()",
     "output_type": "error",
     "traceback": [
      "\u001b[1;31m---------------------------------------------------------------------------\u001b[0m",
      "\u001b[1;31mTypeError\u001b[0m                                 Traceback (most recent call last)",
      "Cell \u001b[1;32mIn [38], line 1\u001b[0m\n\u001b[1;32m----> 1\u001b[0m \u001b[38;5;28;43mprint\u001b[39;49m\u001b[43m(\u001b[49m\u001b[43mweight\u001b[49m\u001b[43m \u001b[49m\u001b[38;5;241;43m=\u001b[39;49m\u001b[43m \u001b[49m\u001b[43mweight\u001b[49m\u001b[43m \u001b[49m\u001b[38;5;241;43m+\u001b[39;49m\u001b[43m \u001b[49m\u001b[38;5;241;43m1\u001b[39;49m\u001b[43m)\u001b[49m\n",
      "\u001b[1;31mTypeError\u001b[0m: 'weight' is an invalid keyword argument for print()"
     ]
    }
   ],
   "source": [
    "print(weight := weight + 1)"
   ]
  },
  {
   "cell_type": "code",
   "execution_count": 43,
   "id": "b61a8dbb",
   "metadata": {},
   "outputs": [
    {
     "name": "stdout",
     "output_type": "stream",
     "text": [
      "153\n"
     ]
    }
   ],
   "source": [
    "print(weight := weight + 1)"
   ]
  },
  {
   "cell_type": "code",
   "execution_count": 39,
   "id": "e979b8a0",
   "metadata": {},
   "outputs": [],
   "source": [
    "weight = weight + 1"
   ]
  },
  {
   "cell_type": "code",
   "execution_count": 40,
   "id": "886e123e",
   "metadata": {},
   "outputs": [
    {
     "name": "stdout",
     "output_type": "stream",
     "text": [
      "151\n"
     ]
    }
   ],
   "source": [
    "print(weight)"
   ]
  },
  {
   "cell_type": "code",
   "execution_count": 41,
   "id": "de6d0cf4",
   "metadata": {},
   "outputs": [],
   "source": [
    "weight+=1"
   ]
  },
  {
   "cell_type": "code",
   "execution_count": 42,
   "id": "f13d2143",
   "metadata": {},
   "outputs": [
    {
     "name": "stdout",
     "output_type": "stream",
     "text": [
      "152\n"
     ]
    }
   ],
   "source": [
    "print(weight)"
   ]
  },
  {
   "cell_type": "code",
   "execution_count": 44,
   "id": "6dc43a30",
   "metadata": {},
   "outputs": [
    {
     "data": {
      "text/plain": [
       "19"
      ]
     },
     "execution_count": 44,
     "metadata": {},
     "output_type": "execute_result"
    }
   ],
   "source": [
    "age"
   ]
  },
  {
   "cell_type": "code",
   "execution_count": 45,
   "id": "c859b8e3",
   "metadata": {},
   "outputs": [
    {
     "data": {
      "text/plain": [
       "153"
      ]
     },
     "execution_count": 45,
     "metadata": {},
     "output_type": "execute_result"
    }
   ],
   "source": [
    "weight"
   ]
  },
  {
   "cell_type": "code",
   "execution_count": 46,
   "id": "641cdc30",
   "metadata": {},
   "outputs": [],
   "source": [
    "age_plus_weight = age + weight"
   ]
  },
  {
   "cell_type": "code",
   "execution_count": 47,
   "id": "d646c65e",
   "metadata": {},
   "outputs": [
    {
     "data": {
      "text/plain": [
       "172"
      ]
     },
     "execution_count": 47,
     "metadata": {},
     "output_type": "execute_result"
    }
   ],
   "source": [
    "age_plus_weight"
   ]
  },
  {
   "cell_type": "code",
   "execution_count": 49,
   "id": "bddcb97c",
   "metadata": {},
   "outputs": [
    {
     "data": {
      "text/plain": [
       "'153kg'"
      ]
     },
     "execution_count": 49,
     "metadata": {},
     "output_type": "execute_result"
    }
   ],
   "source": [
    "str(weight) + \"kg\""
   ]
  },
  {
   "cell_type": "markdown",
   "id": "cd836df0",
   "metadata": {},
   "source": [
    "## Math expressions: Familiar operator"
   ]
  },
  {
   "cell_type": "code",
   "execution_count": 50,
   "id": "20437a55",
   "metadata": {},
   "outputs": [
    {
     "data": {
      "text/plain": [
       "5"
      ]
     },
     "execution_count": 50,
     "metadata": {},
     "output_type": "execute_result"
    }
   ],
   "source": [
    "2+3"
   ]
  },
  {
   "cell_type": "code",
   "execution_count": 51,
   "id": "b8cf4046",
   "metadata": {},
   "outputs": [
    {
     "data": {
      "text/plain": [
       "3"
      ]
     },
     "execution_count": 51,
     "metadata": {},
     "output_type": "execute_result"
    }
   ],
   "source": [
    "5-2"
   ]
  },
  {
   "cell_type": "code",
   "execution_count": 52,
   "id": "7bce0aab",
   "metadata": {},
   "outputs": [
    {
     "data": {
      "text/plain": [
       "15"
      ]
     },
     "execution_count": 52,
     "metadata": {},
     "output_type": "execute_result"
    }
   ],
   "source": [
    "5*3"
   ]
  },
  {
   "cell_type": "code",
   "execution_count": 53,
   "id": "4b8491b5",
   "metadata": {},
   "outputs": [
    {
     "data": {
      "text/plain": [
       "3.0"
      ]
     },
     "execution_count": 53,
     "metadata": {},
     "output_type": "execute_result"
    }
   ],
   "source": [
    "6/2"
   ]
  },
  {
   "cell_type": "code",
   "execution_count": 54,
   "id": "a9d2dad0",
   "metadata": {},
   "outputs": [
    {
     "data": {
      "text/plain": [
       "3.25"
      ]
     },
     "execution_count": 54,
     "metadata": {},
     "output_type": "execute_result"
    }
   ],
   "source": [
    "6.5/2 # simply divde"
   ]
  },
  {
   "cell_type": "code",
   "execution_count": 55,
   "id": "88087fcd",
   "metadata": {},
   "outputs": [
    {
     "data": {
      "text/plain": [
       "3.0"
      ]
     },
     "execution_count": 55,
     "metadata": {},
     "output_type": "execute_result"
    }
   ],
   "source": [
    "6.5//2"
   ]
  },
  {
   "cell_type": "code",
   "execution_count": 61,
   "id": "fe4a3229",
   "metadata": {},
   "outputs": [
    {
     "data": {
      "text/plain": [
       "3"
      ]
     },
     "execution_count": 61,
     "metadata": {},
     "output_type": "execute_result"
    }
   ],
   "source": [
    "int(7.2/2)"
   ]
  },
  {
   "cell_type": "code",
   "execution_count": 75,
   "id": "0638b43b",
   "metadata": {},
   "outputs": [
    {
     "data": {
      "text/plain": [
       "4.0"
      ]
     },
     "execution_count": 75,
     "metadata": {},
     "output_type": "execute_result"
    }
   ],
   "source": [
    "-(-7.2//2)"
   ]
  },
  {
   "cell_type": "code",
   "execution_count": 56,
   "id": "4a1c4c9d",
   "metadata": {},
   "outputs": [
    {
     "data": {
      "text/plain": [
       "9"
      ]
     },
     "execution_count": 56,
     "metadata": {},
     "output_type": "execute_result"
    }
   ],
   "source": [
    "3**2"
   ]
  },
  {
   "cell_type": "markdown",
   "id": "859de558",
   "metadata": {},
   "source": [
    "## Variable Names Legal and Illegal"
   ]
  },
  {
   "cell_type": "code",
   "execution_count": 62,
   "id": "8af993cd",
   "metadata": {},
   "outputs": [],
   "source": [
    "yes = True"
   ]
  },
  {
   "cell_type": "code",
   "execution_count": 63,
   "id": "43a51351",
   "metadata": {},
   "outputs": [
    {
     "data": {
      "text/plain": [
       "True"
      ]
     },
     "execution_count": 63,
     "metadata": {},
     "output_type": "execute_result"
    }
   ],
   "source": [
    "yes"
   ]
  },
  {
   "cell_type": "code",
   "execution_count": 64,
   "id": "21d7a077",
   "metadata": {},
   "outputs": [
    {
     "ename": "SyntaxError",
     "evalue": "cannot assign to True (3517257450.py, line 1)",
     "output_type": "error",
     "traceback": [
      "\u001b[1;36m  Cell \u001b[1;32mIn [64], line 1\u001b[1;36m\u001b[0m\n\u001b[1;33m    True = \"yes\"\u001b[0m\n\u001b[1;37m    ^\u001b[0m\n\u001b[1;31mSyntaxError\u001b[0m\u001b[1;31m:\u001b[0m cannot assign to True\n"
     ]
    }
   ],
   "source": [
    "True = \"yes\""
   ]
  },
  {
   "cell_type": "markdown",
   "id": "b7be4b91",
   "metadata": {},
   "source": [
    "## Math expressions: Unfamiliar operators"
   ]
  },
  {
   "cell_type": "code",
   "execution_count": 65,
   "id": "8d5027e0",
   "metadata": {},
   "outputs": [
    {
     "data": {
      "text/plain": [
       "1"
      ]
     },
     "execution_count": 65,
     "metadata": {},
     "output_type": "execute_result"
    }
   ],
   "source": [
    "10 % 3"
   ]
  },
  {
   "cell_type": "code",
   "execution_count": 66,
   "id": "2aa50a68",
   "metadata": {},
   "outputs": [
    {
     "data": {
      "text/plain": [
       "19"
      ]
     },
     "execution_count": 66,
     "metadata": {},
     "output_type": "execute_result"
    }
   ],
   "source": [
    "age"
   ]
  },
  {
   "cell_type": "code",
   "execution_count": 67,
   "id": "eff4609d",
   "metadata": {},
   "outputs": [],
   "source": [
    "age = age + 1"
   ]
  },
  {
   "cell_type": "code",
   "execution_count": 68,
   "id": "7ec33e1b",
   "metadata": {},
   "outputs": [
    {
     "data": {
      "text/plain": [
       "20"
      ]
     },
     "execution_count": 68,
     "metadata": {},
     "output_type": "execute_result"
    }
   ],
   "source": [
    "age"
   ]
  },
  {
   "cell_type": "code",
   "execution_count": 69,
   "id": "b7c49e96",
   "metadata": {},
   "outputs": [],
   "source": [
    "age +=3"
   ]
  },
  {
   "cell_type": "code",
   "execution_count": 70,
   "id": "3f5c761d",
   "metadata": {},
   "outputs": [
    {
     "data": {
      "text/plain": [
       "23"
      ]
     },
     "execution_count": 70,
     "metadata": {},
     "output_type": "execute_result"
    }
   ],
   "source": [
    "age"
   ]
  },
  {
   "cell_type": "code",
   "execution_count": 71,
   "id": "61694da8",
   "metadata": {},
   "outputs": [],
   "source": [
    "age -=2"
   ]
  },
  {
   "cell_type": "code",
   "execution_count": 72,
   "id": "61ac678a",
   "metadata": {},
   "outputs": [
    {
     "data": {
      "text/plain": [
       "21"
      ]
     },
     "execution_count": 72,
     "metadata": {},
     "output_type": "execute_result"
    }
   ],
   "source": [
    "age"
   ]
  },
  {
   "cell_type": "code",
   "execution_count": 73,
   "id": "3822b849",
   "metadata": {},
   "outputs": [],
   "source": [
    "age *= 3"
   ]
  },
  {
   "cell_type": "code",
   "execution_count": 74,
   "id": "035f5bb7",
   "metadata": {},
   "outputs": [
    {
     "data": {
      "text/plain": [
       "63"
      ]
     },
     "execution_count": 74,
     "metadata": {},
     "output_type": "execute_result"
    }
   ],
   "source": [
    "age"
   ]
  },
  {
   "cell_type": "markdown",
   "id": "1d9259a0",
   "metadata": {},
   "source": [
    "## Math expressions: Eliminating ambiguity\n",
    "\n",
    "- BODMAS"
   ]
  },
  {
   "cell_type": "code",
   "execution_count": 79,
   "id": "864d8212",
   "metadata": {},
   "outputs": [
    {
     "data": {
      "text/plain": [
       "5"
      ]
     },
     "execution_count": 79,
     "metadata": {},
     "output_type": "execute_result"
    }
   ],
   "source": [
    "1 +2 +2"
   ]
  },
  {
   "cell_type": "code",
   "execution_count": 80,
   "id": "05acbd0a",
   "metadata": {},
   "outputs": [
    {
     "data": {
      "text/plain": [
       "5"
      ]
     },
     "execution_count": 80,
     "metadata": {},
     "output_type": "execute_result"
    }
   ],
   "source": [
    "1 +2 *2"
   ]
  },
  {
   "cell_type": "code",
   "execution_count": 81,
   "id": "ef33ad83",
   "metadata": {},
   "outputs": [
    {
     "data": {
      "text/plain": [
       "0"
      ]
     },
     "execution_count": 81,
     "metadata": {},
     "output_type": "execute_result"
    }
   ],
   "source": [
    "1 + (3 - 4)"
   ]
  },
  {
   "cell_type": "markdown",
   "id": "17dbba7e",
   "metadata": {},
   "source": [
    "= ((2 * 4) * 4) + 2\n",
    "=2*4 ==>8\n",
    "=8*4==>32\n",
    "=32+2==>34"
   ]
  },
  {
   "cell_type": "code",
   "execution_count": 76,
   "id": "1ce7f153",
   "metadata": {},
   "outputs": [
    {
     "data": {
      "text/plain": [
       "34"
      ]
     },
     "execution_count": 76,
     "metadata": {},
     "output_type": "execute_result"
    }
   ],
   "source": [
    "((2 * 4) * 4) + 2"
   ]
  },
  {
   "cell_type": "markdown",
   "id": "b49375c2",
   "metadata": {},
   "source": [
    "2*4 ==> 8\n",
    "4+2 ==> 6\n",
    "8*6 ===> 48"
   ]
  },
  {
   "cell_type": "code",
   "execution_count": 77,
   "id": "fc787f9a",
   "metadata": {},
   "outputs": [
    {
     "data": {
      "text/plain": [
       "48"
      ]
     },
     "execution_count": 77,
     "metadata": {},
     "output_type": "execute_result"
    }
   ],
   "source": [
    "(2 * 4) * (4 + 2)"
   ]
  },
  {
   "cell_type": "code",
   "execution_count": 1,
   "id": "18afd358",
   "metadata": {},
   "outputs": [
    {
     "data": {
      "text/plain": [
       "4"
      ]
     },
     "execution_count": 1,
     "metadata": {},
     "output_type": "execute_result"
    }
   ],
   "source": [
    "(8 * 8) % (9 + 1)"
   ]
  },
  {
   "cell_type": "code",
   "execution_count": 2,
   "id": "d903b012",
   "metadata": {},
   "outputs": [
    {
     "data": {
      "text/plain": [
       "15000000"
      ]
     },
     "execution_count": 2,
     "metadata": {},
     "output_type": "execute_result"
    }
   ],
   "source": [
    "(150 * 250) * (250 + 150)"
   ]
  },
  {
   "cell_type": "code",
   "execution_count": null,
   "id": "faf5d5a8",
   "metadata": {},
   "outputs": [],
   "source": []
  }
 ],
 "metadata": {
  "kernelspec": {
   "display_name": "Python 3 (ipykernel)",
   "language": "python",
   "name": "python3"
  },
  "language_info": {
   "codemirror_mode": {
    "name": "ipython",
    "version": 3
   },
   "file_extension": ".py",
   "mimetype": "text/x-python",
   "name": "python",
   "nbconvert_exporter": "python",
   "pygments_lexer": "ipython3",
   "version": "3.11.5"
  },
  "toc": {
   "base_numbering": 1,
   "nav_menu": {},
   "number_sections": true,
   "sideBar": true,
   "skip_h1_title": false,
   "title_cell": "Table of Contents",
   "title_sidebar": "Contents",
   "toc_cell": false,
   "toc_position": {},
   "toc_section_display": true,
   "toc_window_display": false
  }
 },
 "nbformat": 4,
 "nbformat_minor": 5
}
