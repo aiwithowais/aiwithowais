{
 "cells": [
  {
   "cell_type": "markdown",
   "id": "0094b62e",
   "metadata": {},
   "source": [
    "## Concatenating text strings"
   ]
  },
  {
   "cell_type": "markdown",
   "id": "80697fe7",
   "metadata": {},
   "source": [
    "#### Method 1"
   ]
  },
  {
   "cell_type": "code",
   "execution_count": 2,
   "id": "8b5e887e",
   "metadata": {},
   "outputs": [],
   "source": [
    "f_name = \"sultan\""
   ]
  },
  {
   "cell_type": "code",
   "execution_count": 3,
   "id": "aaf6f10d",
   "metadata": {},
   "outputs": [],
   "source": [
    "l_name = \"owais\""
   ]
  },
  {
   "cell_type": "code",
   "execution_count": 4,
   "id": "963a4979",
   "metadata": {},
   "outputs": [
    {
     "name": "stdout",
     "output_type": "stream",
     "text": [
      "sultanowais\n"
     ]
    }
   ],
   "source": [
    "full_name = f_name+l_name\n",
    "print(full_name)"
   ]
  },
  {
   "cell_type": "code",
   "execution_count": 5,
   "id": "6f89605a",
   "metadata": {},
   "outputs": [
    {
     "name": "stdout",
     "output_type": "stream",
     "text": [
      "sultan owais\n"
     ]
    }
   ],
   "source": [
    "full_name = f_name+\" \"+l_name\n",
    "print(full_name)"
   ]
  },
  {
   "cell_type": "code",
   "execution_count": 6,
   "id": "339568a4",
   "metadata": {},
   "outputs": [
    {
     "name": "stdout",
     "output_type": "stream",
     "text": [
      "Hello, World!\n"
     ]
    }
   ],
   "source": [
    "greeting = \"Hello\"\n",
    "separators = \", \"\n",
    "addressee = \"World\"\n",
    "punc = \"!\"\n",
    "whole_greeting = greeting + separators + addressee + punc\n",
    "print(whole_greeting)"
   ]
  },
  {
   "cell_type": "markdown",
   "id": "ad97e718",
   "metadata": {},
   "source": [
    "#### Method 2"
   ]
  },
  {
   "cell_type": "code",
   "execution_count": 6,
   "id": "f4207621",
   "metadata": {},
   "outputs": [
    {
     "data": {
      "text/plain": [
       "'sultan owais'"
      ]
     },
     "execution_count": 6,
     "metadata": {},
     "output_type": "execute_result"
    }
   ],
   "source": [
    "f\"{f_name} {l_name}\""
   ]
  },
  {
   "cell_type": "code",
   "execution_count": 7,
   "id": "4db7c642",
   "metadata": {},
   "outputs": [
    {
     "name": "stdout",
     "output_type": "stream",
     "text": [
      "sultan owais\n"
     ]
    }
   ],
   "source": [
    "print(f\"{f_name} {l_name}\")"
   ]
  },
  {
   "cell_type": "code",
   "execution_count": 8,
   "id": "b14895f8",
   "metadata": {},
   "outputs": [
    {
     "name": "stdout",
     "output_type": "stream",
     "text": [
      "sultan owais\n"
     ]
    }
   ],
   "source": [
    "pora_name = f\"{f_name} {l_name}\"\n",
    "print(pora_name)"
   ]
  },
  {
   "cell_type": "code",
   "execution_count": 9,
   "id": "e4f162b4",
   "metadata": {},
   "outputs": [
    {
     "name": "stdout",
     "output_type": "stream",
     "text": [
      "pora name ha mera => sultan owais\n"
     ]
    }
   ],
   "source": [
    "print(f\"pora name ha mera => {f_name} {l_name}\")"
   ]
  },
  {
   "cell_type": "code",
   "execution_count": null,
   "id": "b622520e",
   "metadata": {},
   "outputs": [],
   "source": []
  }
 ],
 "metadata": {
  "kernelspec": {
   "display_name": "Python 3 (ipykernel)",
   "language": "python",
   "name": "python3"
  },
  "language_info": {
   "codemirror_mode": {
    "name": "ipython",
    "version": 3
   },
   "file_extension": ".py",
   "mimetype": "text/x-python",
   "name": "python",
   "nbconvert_exporter": "python",
   "pygments_lexer": "ipython3",
   "version": "3.11.5"
  },
  "toc": {
   "base_numbering": 1,
   "nav_menu": {},
   "number_sections": true,
   "sideBar": true,
   "skip_h1_title": false,
   "title_cell": "Table of Contents",
   "title_sidebar": "Contents",
   "toc_cell": false,
   "toc_position": {},
   "toc_section_display": true,
   "toc_window_display": false
  }
 },
 "nbformat": 4,
 "nbformat_minor": 5
}
