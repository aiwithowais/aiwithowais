{
 "cells": [
  {
   "cell_type": "markdown",
   "id": "5cb3a4f6",
   "metadata": {},
   "source": [
    "## if statements"
   ]
  },
  {
   "cell_type": "code",
   "execution_count": 11,
   "id": "25cea764",
   "metadata": {},
   "outputs": [],
   "source": [
    "chutti = False"
   ]
  },
  {
   "cell_type": "raw",
   "id": "5f8e9da5",
   "metadata": {},
   "source": [
    "if <condition>:\n",
    "    \n",
    "    <body start>\n",
    "    \n",
    "    what will\n",
    "    \n",
    "    \n",
    "    <body end>"
   ]
  },
  {
   "cell_type": "code",
   "execution_count": 12,
   "id": "1c5e0eb5",
   "metadata": {},
   "outputs": [],
   "source": [
    "if chutti:\n",
    "    print(\"Today is OFF - Happy new year\")"
   ]
  },
  {
   "cell_type": "code",
   "execution_count": 8,
   "id": "7fc31f8f",
   "metadata": {},
   "outputs": [
    {
     "name": "stdout",
     "output_type": "stream",
     "text": [
      "out of body print\n"
     ]
    }
   ],
   "source": [
    "if chutti:\n",
    "    print(\"Today is OFF - Happy new year\")\n",
    "print(\"out of body print\")"
   ]
  },
  {
   "cell_type": "code",
   "execution_count": 16,
   "id": "45bf9004",
   "metadata": {},
   "outputs": [],
   "source": [
    "chutti = True"
   ]
  },
  {
   "cell_type": "code",
   "execution_count": 17,
   "id": "790189f0",
   "metadata": {},
   "outputs": [
    {
     "name": "stdout",
     "output_type": "stream",
     "text": [
      "Today is OFF - Happy new year\n"
     ]
    }
   ],
   "source": [
    "if chutti:\n",
    "    print(\"Today is OFF - Happy new year\")\n",
    "else:\n",
    "    print(\"Attend class in Saylani\")"
   ]
  },
  {
   "cell_type": "markdown",
   "id": "903126de",
   "metadata": {},
   "source": [
    "### Example2"
   ]
  },
  {
   "cell_type": "code",
   "execution_count": 26,
   "id": "4bddf8b6",
   "metadata": {},
   "outputs": [],
   "source": [
    "num = 3"
   ]
  },
  {
   "cell_type": "code",
   "execution_count": 24,
   "id": "8567dea3",
   "metadata": {},
   "outputs": [
    {
     "data": {
      "text/plain": [
       "True"
      ]
     },
     "execution_count": 24,
     "metadata": {},
     "output_type": "execute_result"
    }
   ],
   "source": [
    " num%2==0"
   ]
  },
  {
   "cell_type": "code",
   "execution_count": 28,
   "id": "805353a7",
   "metadata": {},
   "outputs": [
    {
     "name": "stdout",
     "output_type": "stream",
     "text": [
      "number is odd\n"
     ]
    }
   ],
   "source": [
    "if num%2==0:\n",
    "    print('number is even')\n",
    "else:\n",
    "    print('number is odd')"
   ]
  },
  {
   "cell_type": "markdown",
   "id": "5b65c270",
   "metadata": {},
   "source": [
    "### Example 3"
   ]
  },
  {
   "cell_type": "code",
   "execution_count": 40,
   "id": "925dfbb7",
   "metadata": {},
   "outputs": [],
   "source": [
    "country = \"Turkey\"\n",
    "height = 5"
   ]
  },
  {
   "cell_type": "code",
   "execution_count": 41,
   "id": "20c04826",
   "metadata": {},
   "outputs": [
    {
     "name": "stdout",
     "output_type": "stream",
     "text": [
      "Mehmood is Happy for country\n",
      "Its fine for Mehmood\n"
     ]
    }
   ],
   "source": [
    "if country != \"Pakistan\":\n",
    "    print(\"Mehmood is Happy for country\")\n",
    "    if height <5:\n",
    "        print(\"Mehmood is not Happy for height\")\n",
    "    else:\n",
    "        print(\"Its fine for Mehmood\")\n",
    "else:\n",
    "    print(\"Mehmood is Sad\")"
   ]
  },
  {
   "cell_type": "code",
   "execution_count": 45,
   "id": "2249d940",
   "metadata": {
    "scrolled": true
   },
   "outputs": [
    {
     "name": "stdout",
     "output_type": "stream",
     "text": [
      "Enter country of Girl: Turkey\n",
      "Enter height of Girl: 5\n",
      "Mehmood is Happy for country\n",
      "Its fine for Mehmood\n"
     ]
    }
   ],
   "source": [
    "country = input(\"Enter country of Girl: \")\n",
    "height = int(input(\"Enter height of Girl: \"))\n",
    "\n",
    "if country != \"Pakistan\":\n",
    "    print(\"Mehmood is Happy for country\")\n",
    "    if height <5:\n",
    "        print(\"Mehmood is not Happy for height\")\n",
    "    else:\n",
    "        print(\"Its fine for Mehmood\")\n",
    "else:\n",
    "    print(\"Mehmood is Sad\")"
   ]
  },
  {
   "cell_type": "code",
   "execution_count": 48,
   "id": "80742638",
   "metadata": {},
   "outputs": [],
   "source": [
    "species = \"dog\" # \"=\" is used for assignment\n",
    "if species == \"cat\":\n",
    "    print(\"Yep, it's cat.\")\n"
   ]
  },
  {
   "cell_type": "code",
   "execution_count": 47,
   "id": "9bd85cce",
   "metadata": {},
   "outputs": [],
   "source": [
    "species = 3\n",
    "if species == \"cat\":\n",
    "    print(\"Yep, it's cat.\")"
   ]
  },
  {
   "cell_type": "code",
   "execution_count": 50,
   "id": "c9fde0d7",
   "metadata": {},
   "outputs": [
    {
     "name": "stdout",
     "output_type": "stream",
     "text": [
      "Yep, it's cat.\n",
      "animal\n"
     ]
    }
   ],
   "source": [
    "species = \"cat\"\n",
    "if species == \"cat\":\n",
    "    status = \"ok\"\n",
    "    kingdom = \"animal\"\n",
    "    print(\"Yep, it's cat.\")\n",
    "    print(kingdom)"
   ]
  },
  {
   "cell_type": "code",
   "execution_count": 53,
   "id": "caa38e92",
   "metadata": {},
   "outputs": [
    {
     "name": "stdout",
     "output_type": "stream",
     "text": [
      "Everything makes sense.\n"
     ]
    }
   ],
   "source": [
    "if 2 + 2 == 4:\n",
    "    print(\"Everything makes sense.\")"
   ]
  },
  {
   "cell_type": "markdown",
   "id": "b3a9fe1b",
   "metadata": {},
   "source": [
    "## Comparison operators"
   ]
  },
  {
   "cell_type": "raw",
   "id": "543d84a8",
   "metadata": {},
   "source": [
    "==\n",
    "!=\n",
    ">\n",
    "<\n",
    "<=\n",
    ">="
   ]
  },
  {
   "cell_type": "code",
   "execution_count": 54,
   "id": "60c5844f",
   "metadata": {},
   "outputs": [
    {
     "data": {
      "text/plain": [
       "False"
      ]
     },
     "execution_count": 54,
     "metadata": {},
     "output_type": "execute_result"
    }
   ],
   "source": [
    "2 + 2 == 5 # \"==\" equality operator"
   ]
  },
  {
   "cell_type": "code",
   "execution_count": 55,
   "id": "926d7668",
   "metadata": {},
   "outputs": [
    {
     "data": {
      "text/plain": [
       "True"
      ]
     },
     "execution_count": 55,
     "metadata": {},
     "output_type": "execute_result"
    }
   ],
   "source": [
    "2 + 2 == 4"
   ]
  },
  {
   "cell_type": "code",
   "execution_count": 56,
   "id": "f8d9b2bb",
   "metadata": {},
   "outputs": [
    {
     "data": {
      "text/plain": [
       "True"
      ]
     },
     "execution_count": 56,
     "metadata": {},
     "output_type": "execute_result"
    }
   ],
   "source": [
    "\"cat\" == \"cat\" # \"==\" equality operator"
   ]
  },
  {
   "cell_type": "code",
   "execution_count": 57,
   "id": "6da4c143",
   "metadata": {},
   "outputs": [
    {
     "data": {
      "text/plain": [
       "False"
      ]
     },
     "execution_count": 57,
     "metadata": {},
     "output_type": "execute_result"
    }
   ],
   "source": [
    "\"dog\" == \"cat\""
   ]
  },
  {
   "cell_type": "code",
   "execution_count": 58,
   "id": "e10950ef",
   "metadata": {},
   "outputs": [
    {
     "data": {
      "text/plain": [
       "False"
      ]
     },
     "execution_count": 58,
     "metadata": {},
     "output_type": "execute_result"
    }
   ],
   "source": [
    "\"CAT\" == \"cat\""
   ]
  },
  {
   "cell_type": "code",
   "execution_count": 59,
   "id": "dceee121",
   "metadata": {},
   "outputs": [
    {
     "data": {
      "text/plain": [
       "True"
      ]
     },
     "execution_count": 59,
     "metadata": {},
     "output_type": "execute_result"
    }
   ],
   "source": [
    "\"Cat\" == \"Cat\""
   ]
  },
  {
   "cell_type": "code",
   "execution_count": 60,
   "id": "25ab4e6e",
   "metadata": {},
   "outputs": [
    {
     "data": {
      "text/plain": [
       "False"
      ]
     },
     "execution_count": 60,
     "metadata": {},
     "output_type": "execute_result"
    }
   ],
   "source": [
    "\"Cat\" == \"cat\""
   ]
  },
  {
   "cell_type": "code",
   "execution_count": 62,
   "id": "6aded7b7",
   "metadata": {},
   "outputs": [
    {
     "data": {
      "text/plain": [
       "False"
      ]
     },
     "execution_count": 62,
     "metadata": {},
     "output_type": "execute_result"
    }
   ],
   "source": [
    "2 + 2 != 4"
   ]
  },
  {
   "cell_type": "code",
   "execution_count": 63,
   "id": "3050f92c",
   "metadata": {},
   "outputs": [
    {
     "data": {
      "text/plain": [
       "True"
      ]
     },
     "execution_count": 63,
     "metadata": {},
     "output_type": "execute_result"
    }
   ],
   "source": [
    "3 < 6"
   ]
  },
  {
   "cell_type": "code",
   "execution_count": 64,
   "id": "34e39b3c",
   "metadata": {},
   "outputs": [
    {
     "data": {
      "text/plain": [
       "False"
      ]
     },
     "execution_count": 64,
     "metadata": {},
     "output_type": "execute_result"
    }
   ],
   "source": [
    "3 > 6"
   ]
  },
  {
   "cell_type": "code",
   "execution_count": 67,
   "id": "1fbadbc1",
   "metadata": {},
   "outputs": [
    {
     "data": {
      "text/plain": [
       "False"
      ]
     },
     "execution_count": 67,
     "metadata": {},
     "output_type": "execute_result"
    }
   ],
   "source": [
    "3 <= 2"
   ]
  },
  {
   "cell_type": "code",
   "execution_count": 68,
   "id": "b9f443a7",
   "metadata": {},
   "outputs": [
    {
     "name": "stdout",
     "output_type": "stream",
     "text": [
      "Nope, not cat.\n"
     ]
    }
   ],
   "source": [
    "species = \"dog\"\n",
    "\n",
    "if species == \"cat\":\n",
    "    print(\"Yep, it's cat.\")\n",
    "else:\n",
    "    print(\"Nope, not cat.\")"
   ]
  },
  {
   "cell_type": "code",
   "execution_count": 73,
   "id": "ed27ae8b",
   "metadata": {},
   "outputs": [],
   "source": [
    "buy_score = 0\n",
    "\n",
    "fruit_condition = \"not Fresh\"\n",
    "fruit_price = 'low'"
   ]
  },
  {
   "cell_type": "code",
   "execution_count": 74,
   "id": "357a0bb4",
   "metadata": {},
   "outputs": [],
   "source": [
    "if fruit_condition == \"fresh\":\n",
    "    buy_score += 10\n",
    "elif fruit_price == \"low\":\n",
    "    buy_score += 5\n",
    "else:\n",
    "    buy_score = 0"
   ]
  },
  {
   "cell_type": "code",
   "execution_count": 75,
   "id": "c3633f85",
   "metadata": {},
   "outputs": [
    {
     "data": {
      "text/plain": [
       "5"
      ]
     },
     "execution_count": 75,
     "metadata": {},
     "output_type": "execute_result"
    }
   ],
   "source": [
    "buy_score"
   ]
  },
  {
   "cell_type": "code",
   "execution_count": null,
   "id": "1f5fb3a0",
   "metadata": {},
   "outputs": [],
   "source": []
  }
 ],
 "metadata": {
  "kernelspec": {
   "display_name": "Python 3 (ipykernel)",
   "language": "python",
   "name": "python3"
  },
  "language_info": {
   "codemirror_mode": {
    "name": "ipython",
    "version": 3
   },
   "file_extension": ".py",
   "mimetype": "text/x-python",
   "name": "python",
   "nbconvert_exporter": "python",
   "pygments_lexer": "ipython3",
   "version": "3.11.5"
  },
  "toc": {
   "base_numbering": 1,
   "nav_menu": {},
   "number_sections": true,
   "sideBar": true,
   "skip_h1_title": false,
   "title_cell": "Table of Contents",
   "title_sidebar": "Contents",
   "toc_cell": false,
   "toc_position": {},
   "toc_section_display": true,
   "toc_window_display": false
  }
 },
 "nbformat": 4,
 "nbformat_minor": 5
}
